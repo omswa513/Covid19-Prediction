{
 "cells": [
  {
   "cell_type": "markdown",
   "id": "de430a17",
   "metadata": {},
   "source": [
    "#### The main goal of this project is to build a machine learning model that, given a Covid-19 patient's current symptom, status, and medical history, will predict whether the patient is in high risk or not."
   ]
  },
  {
   "cell_type": "markdown",
   "id": "2ef1018e",
   "metadata": {},
   "source": [
    "### Step 1 : Import Liabraries and Dataset"
   ]
  },
  {
   "cell_type": "code",
   "execution_count": 1,
   "id": "ed13debc",
   "metadata": {},
   "outputs": [],
   "source": [
    "import pandas as pd\n",
    "import numpy as np\n",
    "import matplotlib.pyplot as plt\n",
    "import seaborn as sns\n",
    "%matplotlib inline\n",
    "from scipy.stats import norm\n",
    "from sklearn.preprocessing import StandardScaler\n",
    "from sklearn.preprocessing import LabelEncoder\n",
    "from sklearn.model_selection import train_test_split\n",
    "from sklearn.svm import SVC\n",
    "from sklearn.model_selection import cross_val_score\n",
    "from sklearn.pipeline import make_pipeline\n",
    "from sklearn.metrics import confusion_matrix\n",
    "from sklearn import metrics, preprocessing\n",
    "from sklearn.metrics import classification_report\n",
    "import seaborn as sns"
   ]
  },
  {
   "cell_type": "code",
   "execution_count": 2,
   "id": "bda5e154",
   "metadata": {},
   "outputs": [],
   "source": [
    "import os\n",
    "os.chdir('Desktop')"
   ]
  },
  {
   "cell_type": "code",
   "execution_count": 3,
   "id": "775a5a71",
   "metadata": {},
   "outputs": [],
   "source": [
    "data = pd.read_csv('Covid_Data.csv')"
   ]
  },
  {
   "cell_type": "code",
   "execution_count": 4,
   "id": "b2658df8",
   "metadata": {},
   "outputs": [
    {
     "data": {
      "text/html": [
       "<div>\n",
       "<style scoped>\n",
       "    .dataframe tbody tr th:only-of-type {\n",
       "        vertical-align: middle;\n",
       "    }\n",
       "\n",
       "    .dataframe tbody tr th {\n",
       "        vertical-align: top;\n",
       "    }\n",
       "\n",
       "    .dataframe thead th {\n",
       "        text-align: right;\n",
       "    }\n",
       "</style>\n",
       "<table border=\"1\" class=\"dataframe\">\n",
       "  <thead>\n",
       "    <tr style=\"text-align: right;\">\n",
       "      <th></th>\n",
       "      <th>USMER</th>\n",
       "      <th>MEDICAL_UNIT</th>\n",
       "      <th>SEX</th>\n",
       "      <th>PATIENT_TYPE</th>\n",
       "      <th>DATE_DIED</th>\n",
       "      <th>INTUBED</th>\n",
       "      <th>PNEUMONIA</th>\n",
       "      <th>AGE</th>\n",
       "      <th>PREGNANT</th>\n",
       "      <th>DIABETES</th>\n",
       "      <th>...</th>\n",
       "      <th>ASTHMA</th>\n",
       "      <th>INMSUPR</th>\n",
       "      <th>HIPERTENSION</th>\n",
       "      <th>OTHER_DISEASE</th>\n",
       "      <th>CARDIOVASCULAR</th>\n",
       "      <th>OBESITY</th>\n",
       "      <th>RENAL_CHRONIC</th>\n",
       "      <th>TOBACCO</th>\n",
       "      <th>CLASIFFICATION_FINAL</th>\n",
       "      <th>ICU</th>\n",
       "    </tr>\n",
       "  </thead>\n",
       "  <tbody>\n",
       "    <tr>\n",
       "      <th>0</th>\n",
       "      <td>2</td>\n",
       "      <td>1</td>\n",
       "      <td>1</td>\n",
       "      <td>1</td>\n",
       "      <td>03-05-2020</td>\n",
       "      <td>97</td>\n",
       "      <td>1</td>\n",
       "      <td>65</td>\n",
       "      <td>2</td>\n",
       "      <td>2</td>\n",
       "      <td>...</td>\n",
       "      <td>2</td>\n",
       "      <td>2</td>\n",
       "      <td>1</td>\n",
       "      <td>2</td>\n",
       "      <td>2</td>\n",
       "      <td>2</td>\n",
       "      <td>2</td>\n",
       "      <td>2</td>\n",
       "      <td>3</td>\n",
       "      <td>97</td>\n",
       "    </tr>\n",
       "    <tr>\n",
       "      <th>1</th>\n",
       "      <td>2</td>\n",
       "      <td>1</td>\n",
       "      <td>2</td>\n",
       "      <td>1</td>\n",
       "      <td>03-06-2020</td>\n",
       "      <td>97</td>\n",
       "      <td>1</td>\n",
       "      <td>72</td>\n",
       "      <td>97</td>\n",
       "      <td>2</td>\n",
       "      <td>...</td>\n",
       "      <td>2</td>\n",
       "      <td>2</td>\n",
       "      <td>1</td>\n",
       "      <td>2</td>\n",
       "      <td>2</td>\n",
       "      <td>1</td>\n",
       "      <td>1</td>\n",
       "      <td>2</td>\n",
       "      <td>5</td>\n",
       "      <td>97</td>\n",
       "    </tr>\n",
       "    <tr>\n",
       "      <th>2</th>\n",
       "      <td>2</td>\n",
       "      <td>1</td>\n",
       "      <td>2</td>\n",
       "      <td>2</td>\n",
       "      <td>09-06-2020</td>\n",
       "      <td>1</td>\n",
       "      <td>2</td>\n",
       "      <td>55</td>\n",
       "      <td>97</td>\n",
       "      <td>1</td>\n",
       "      <td>...</td>\n",
       "      <td>2</td>\n",
       "      <td>2</td>\n",
       "      <td>2</td>\n",
       "      <td>2</td>\n",
       "      <td>2</td>\n",
       "      <td>2</td>\n",
       "      <td>2</td>\n",
       "      <td>2</td>\n",
       "      <td>3</td>\n",
       "      <td>2</td>\n",
       "    </tr>\n",
       "    <tr>\n",
       "      <th>3</th>\n",
       "      <td>2</td>\n",
       "      <td>1</td>\n",
       "      <td>1</td>\n",
       "      <td>1</td>\n",
       "      <td>12-06-2020</td>\n",
       "      <td>97</td>\n",
       "      <td>2</td>\n",
       "      <td>53</td>\n",
       "      <td>2</td>\n",
       "      <td>2</td>\n",
       "      <td>...</td>\n",
       "      <td>2</td>\n",
       "      <td>2</td>\n",
       "      <td>2</td>\n",
       "      <td>2</td>\n",
       "      <td>2</td>\n",
       "      <td>2</td>\n",
       "      <td>2</td>\n",
       "      <td>2</td>\n",
       "      <td>7</td>\n",
       "      <td>97</td>\n",
       "    </tr>\n",
       "    <tr>\n",
       "      <th>4</th>\n",
       "      <td>2</td>\n",
       "      <td>1</td>\n",
       "      <td>2</td>\n",
       "      <td>1</td>\n",
       "      <td>21-06-2020</td>\n",
       "      <td>97</td>\n",
       "      <td>2</td>\n",
       "      <td>68</td>\n",
       "      <td>97</td>\n",
       "      <td>1</td>\n",
       "      <td>...</td>\n",
       "      <td>2</td>\n",
       "      <td>2</td>\n",
       "      <td>1</td>\n",
       "      <td>2</td>\n",
       "      <td>2</td>\n",
       "      <td>2</td>\n",
       "      <td>2</td>\n",
       "      <td>2</td>\n",
       "      <td>3</td>\n",
       "      <td>97</td>\n",
       "    </tr>\n",
       "  </tbody>\n",
       "</table>\n",
       "<p>5 rows × 21 columns</p>\n",
       "</div>"
      ],
      "text/plain": [
       "   USMER  MEDICAL_UNIT  SEX  PATIENT_TYPE   DATE_DIED  INTUBED  PNEUMONIA  \\\n",
       "0      2             1    1             1  03-05-2020       97          1   \n",
       "1      2             1    2             1  03-06-2020       97          1   \n",
       "2      2             1    2             2  09-06-2020        1          2   \n",
       "3      2             1    1             1  12-06-2020       97          2   \n",
       "4      2             1    2             1  21-06-2020       97          2   \n",
       "\n",
       "   AGE  PREGNANT  DIABETES  ...  ASTHMA  INMSUPR  HIPERTENSION  OTHER_DISEASE  \\\n",
       "0   65         2         2  ...       2        2             1              2   \n",
       "1   72        97         2  ...       2        2             1              2   \n",
       "2   55        97         1  ...       2        2             2              2   \n",
       "3   53         2         2  ...       2        2             2              2   \n",
       "4   68        97         1  ...       2        2             1              2   \n",
       "\n",
       "   CARDIOVASCULAR  OBESITY  RENAL_CHRONIC  TOBACCO  CLASIFFICATION_FINAL  ICU  \n",
       "0               2        2              2        2                     3   97  \n",
       "1               2        1              1        2                     5   97  \n",
       "2               2        2              2        2                     3    2  \n",
       "3               2        2              2        2                     7   97  \n",
       "4               2        2              2        2                     3   97  \n",
       "\n",
       "[5 rows x 21 columns]"
      ]
     },
     "execution_count": 4,
     "metadata": {},
     "output_type": "execute_result"
    }
   ],
   "source": [
    "data.head()"
   ]
  },
  {
   "cell_type": "code",
   "execution_count": 5,
   "id": "08b26c81",
   "metadata": {},
   "outputs": [],
   "source": [
    "### We have to may 97 and 99 values in the dataset which are null values so we need to drop them."
   ]
  },
  {
   "cell_type": "code",
   "execution_count": 6,
   "id": "c635683b",
   "metadata": {},
   "outputs": [],
   "source": [
    "data = data.loc[(data.CLASIFFICATION_FINAL < 4)]\n",
    "data = data.loc[(data.PATIENT_TYPE == 1) | (data.PATIENT_TYPE == 2)]\n",
    "data = data.loc[(data.INTUBED == 1) | (data.INTUBED == 2)]\n",
    "data = data.loc[(data.PNEUMONIA == 1) | (data.PNEUMONIA == 2)]\n",
    "data = data.loc[(data.PREGNANT == 1) | (data.PREGNANT == 2)]\n",
    "data = data.loc[(data.DIABETES == 1) | (data.DIABETES == 2)]\n",
    "data = data.loc[(data.COPD == 1) | (data.COPD == 2)]\n",
    "data = data.loc[(data.ASTHMA == 1) | (data.ASTHMA == 2)]\n",
    "data = data.loc[(data.INMSUPR == 1) | (data.INMSUPR == 2)]\n",
    "data = data.loc[(data.HIPERTENSION == 1) | (data.HIPERTENSION == 2)]\n",
    "data = data.loc[(data.OTHER_DISEASE == 1) | (data.OTHER_DISEASE == 2)]\n",
    "data = data.loc[(data.CARDIOVASCULAR == 1) | (data.CARDIOVASCULAR == 2)]\n",
    "data = data.loc[(data.OBESITY == 1) | (data.OBESITY == 2)]\n",
    "data = data.loc[(data.RENAL_CHRONIC == 1) | (data.RENAL_CHRONIC == 2)]\n",
    "data = data.loc[(data.TOBACCO == 1) | (data.TOBACCO == 2)]\n",
    "data = data.loc[(data.ICU == 1) | (data.ICU == 2)]"
   ]
  },
  {
   "cell_type": "code",
   "execution_count": 7,
   "id": "32e875e3",
   "metadata": {},
   "outputs": [
    {
     "name": "stdout",
     "output_type": "stream",
     "text": [
      "<class 'pandas.core.frame.DataFrame'>\n",
      "Int64Index: 41330 entries, 5 to 1047933\n",
      "Data columns (total 21 columns):\n",
      " #   Column                Non-Null Count  Dtype \n",
      "---  ------                --------------  ----- \n",
      " 0   USMER                 41330 non-null  int64 \n",
      " 1   MEDICAL_UNIT          41330 non-null  int64 \n",
      " 2   SEX                   41330 non-null  int64 \n",
      " 3   PATIENT_TYPE          41330 non-null  int64 \n",
      " 4   DATE_DIED             41330 non-null  object\n",
      " 5   INTUBED               41330 non-null  int64 \n",
      " 6   PNEUMONIA             41330 non-null  int64 \n",
      " 7   AGE                   41330 non-null  int64 \n",
      " 8   PREGNANT              41330 non-null  int64 \n",
      " 9   DIABETES              41330 non-null  int64 \n",
      " 10  COPD                  41330 non-null  int64 \n",
      " 11  ASTHMA                41330 non-null  int64 \n",
      " 12  INMSUPR               41330 non-null  int64 \n",
      " 13  HIPERTENSION          41330 non-null  int64 \n",
      " 14  OTHER_DISEASE         41330 non-null  int64 \n",
      " 15  CARDIOVASCULAR        41330 non-null  int64 \n",
      " 16  OBESITY               41330 non-null  int64 \n",
      " 17  RENAL_CHRONIC         41330 non-null  int64 \n",
      " 18  TOBACCO               41330 non-null  int64 \n",
      " 19  CLASIFFICATION_FINAL  41330 non-null  int64 \n",
      " 20  ICU                   41330 non-null  int64 \n",
      "dtypes: int64(20), object(1)\n",
      "memory usage: 6.9+ MB\n"
     ]
    }
   ],
   "source": [
    "data.info()"
   ]
  },
  {
   "cell_type": "code",
   "execution_count": 8,
   "id": "d5f8fa5f",
   "metadata": {},
   "outputs": [
    {
     "data": {
      "text/plain": [
       "USMER                   0\n",
       "MEDICAL_UNIT            0\n",
       "SEX                     0\n",
       "PATIENT_TYPE            0\n",
       "DATE_DIED               0\n",
       "INTUBED                 0\n",
       "PNEUMONIA               0\n",
       "AGE                     0\n",
       "PREGNANT                0\n",
       "DIABETES                0\n",
       "COPD                    0\n",
       "ASTHMA                  0\n",
       "INMSUPR                 0\n",
       "HIPERTENSION            0\n",
       "OTHER_DISEASE           0\n",
       "CARDIOVASCULAR          0\n",
       "OBESITY                 0\n",
       "RENAL_CHRONIC           0\n",
       "TOBACCO                 0\n",
       "CLASIFFICATION_FINAL    0\n",
       "ICU                     0\n",
       "dtype: int64"
      ]
     },
     "execution_count": 8,
     "metadata": {},
     "output_type": "execute_result"
    }
   ],
   "source": [
    "data.isnull().sum()"
   ]
  },
  {
   "cell_type": "code",
   "execution_count": 9,
   "id": "aff96304",
   "metadata": {},
   "outputs": [
    {
     "data": {
      "text/plain": [
       "<AxesSubplot:>"
      ]
     },
     "execution_count": 9,
     "metadata": {},
     "output_type": "execute_result"
    },
    {
     "data": {
      "image/png": "[encoded data removed]",
      "text/plain": [
       "<Figure size 432x288 with 1 Axes>"
      ]
     },
     "metadata": {
      "needs_background": "light"
     },
     "output_type": "display_data"
    }
   ],
   "source": [
    "sns.heatmap(data.isnull(), yticklabels=False,cbar=False,cmap='viridis')"
   ]
  },
  {
   "cell_type": "code",
   "execution_count": 10,
   "id": "3783da0f",
   "metadata": {},
   "outputs": [],
   "source": [
    "## as wecan see above no nulls are available in the dataset"
   ]
  },
  {
   "cell_type": "markdown",
   "id": "b155139f",
   "metadata": {},
   "source": [
    "### Step 2: Exploratory Data Analysis"
   ]
  },
  {
   "cell_type": "code",
   "execution_count": 11,
   "id": "5a6423e1",
   "metadata": {},
   "outputs": [
    {
     "data": {
      "text/plain": [
       "<AxesSubplot:xlabel='SEX', ylabel='count'>"
      ]
     },
     "execution_count": 11,
     "metadata": {},
     "output_type": "execute_result"
    },
    {
     "data": {
      "image/png": "[encoded data removed]",
      "text/plain": [
       "<Figure size 432x288 with 1 Axes>"
      ]
     },
     "metadata": {
      "needs_background": "light"
     },
     "output_type": "display_data"
    }
   ],
   "source": [
    "sns.countplot(x='SEX',hue='USMER',data=data)"
   ]
  },
  {
   "cell_type": "code",
   "execution_count": 12,
   "id": "7c4a100a",
   "metadata": {},
   "outputs": [
    {
     "data": {
      "text/html": [
       "<div>\n",
       "<style scoped>\n",
       "    .dataframe tbody tr th:only-of-type {\n",
       "        vertical-align: middle;\n",
       "    }\n",
       "\n",
       "    .dataframe tbody tr th {\n",
       "        vertical-align: top;\n",
       "    }\n",
       "\n",
       "    .dataframe thead th {\n",
       "        text-align: right;\n",
       "    }\n",
       "</style>\n",
       "<table border=\"1\" class=\"dataframe\">\n",
       "  <thead>\n",
       "    <tr style=\"text-align: right;\">\n",
       "      <th></th>\n",
       "      <th>USMER</th>\n",
       "      <th>MEDICAL_UNIT</th>\n",
       "      <th>SEX</th>\n",
       "      <th>PATIENT_TYPE</th>\n",
       "      <th>INTUBED</th>\n",
       "      <th>PNEUMONIA</th>\n",
       "      <th>AGE</th>\n",
       "      <th>PREGNANT</th>\n",
       "      <th>DIABETES</th>\n",
       "      <th>COPD</th>\n",
       "      <th>ASTHMA</th>\n",
       "      <th>INMSUPR</th>\n",
       "      <th>HIPERTENSION</th>\n",
       "      <th>OTHER_DISEASE</th>\n",
       "      <th>CARDIOVASCULAR</th>\n",
       "      <th>OBESITY</th>\n",
       "      <th>RENAL_CHRONIC</th>\n",
       "      <th>TOBACCO</th>\n",
       "      <th>CLASIFFICATION_FINAL</th>\n",
       "      <th>ICU</th>\n",
       "    </tr>\n",
       "  </thead>\n",
       "  <tbody>\n",
       "    <tr>\n",
       "      <th>USMER</th>\n",
       "      <td>1.000000</td>\n",
       "      <td>-0.024456</td>\n",
       "      <td>NaN</td>\n",
       "      <td>NaN</td>\n",
       "      <td>0.011815</td>\n",
       "      <td>0.087455</td>\n",
       "      <td>-0.035726</td>\n",
       "      <td>-0.012878</td>\n",
       "      <td>0.022612</td>\n",
       "      <td>0.001997</td>\n",
       "      <td>0.000840</td>\n",
       "      <td>-0.008560</td>\n",
       "      <td>0.027874</td>\n",
       "      <td>-0.001508</td>\n",
       "      <td>0.002115</td>\n",
       "      <td>-0.018104</td>\n",
       "      <td>0.020643</td>\n",
       "      <td>-0.010098</td>\n",
       "      <td>-0.063541</td>\n",
       "      <td>-0.032861</td>\n",
       "    </tr>\n",
       "    <tr>\n",
       "      <th>MEDICAL_UNIT</th>\n",
       "      <td>-0.024456</td>\n",
       "      <td>1.000000</td>\n",
       "      <td>NaN</td>\n",
       "      <td>NaN</td>\n",
       "      <td>0.092775</td>\n",
       "      <td>-0.209098</td>\n",
       "      <td>-0.115908</td>\n",
       "      <td>-0.026368</td>\n",
       "      <td>0.038321</td>\n",
       "      <td>0.010067</td>\n",
       "      <td>0.000751</td>\n",
       "      <td>0.019945</td>\n",
       "      <td>0.079355</td>\n",
       "      <td>0.099491</td>\n",
       "      <td>0.004364</td>\n",
       "      <td>-0.036437</td>\n",
       "      <td>0.067745</td>\n",
       "      <td>0.005464</td>\n",
       "      <td>-0.049613</td>\n",
       "      <td>-0.183154</td>\n",
       "    </tr>\n",
       "    <tr>\n",
       "      <th>SEX</th>\n",
       "      <td>NaN</td>\n",
       "      <td>NaN</td>\n",
       "      <td>NaN</td>\n",
       "      <td>NaN</td>\n",
       "      <td>NaN</td>\n",
       "      <td>NaN</td>\n",
       "      <td>NaN</td>\n",
       "      <td>NaN</td>\n",
       "      <td>NaN</td>\n",
       "      <td>NaN</td>\n",
       "      <td>NaN</td>\n",
       "      <td>NaN</td>\n",
       "      <td>NaN</td>\n",
       "      <td>NaN</td>\n",
       "      <td>NaN</td>\n",
       "      <td>NaN</td>\n",
       "      <td>NaN</td>\n",
       "      <td>NaN</td>\n",
       "      <td>NaN</td>\n",
       "      <td>NaN</td>\n",
       "    </tr>\n",
       "    <tr>\n",
       "      <th>PATIENT_TYPE</th>\n",
       "      <td>NaN</td>\n",
       "      <td>NaN</td>\n",
       "      <td>NaN</td>\n",
       "      <td>NaN</td>\n",
       "      <td>NaN</td>\n",
       "      <td>NaN</td>\n",
       "      <td>NaN</td>\n",
       "      <td>NaN</td>\n",
       "      <td>NaN</td>\n",
       "      <td>NaN</td>\n",
       "      <td>NaN</td>\n",
       "      <td>NaN</td>\n",
       "      <td>NaN</td>\n",
       "      <td>NaN</td>\n",
       "      <td>NaN</td>\n",
       "      <td>NaN</td>\n",
       "      <td>NaN</td>\n",
       "      <td>NaN</td>\n",
       "      <td>NaN</td>\n",
       "      <td>NaN</td>\n",
       "    </tr>\n",
       "    <tr>\n",
       "      <th>INTUBED</th>\n",
       "      <td>0.011815</td>\n",
       "      <td>0.092775</td>\n",
       "      <td>NaN</td>\n",
       "      <td>NaN</td>\n",
       "      <td>1.000000</td>\n",
       "      <td>0.144537</td>\n",
       "      <td>-0.113669</td>\n",
       "      <td>-0.027651</td>\n",
       "      <td>0.058060</td>\n",
       "      <td>0.020966</td>\n",
       "      <td>-0.001246</td>\n",
       "      <td>0.011804</td>\n",
       "      <td>0.072198</td>\n",
       "      <td>0.032356</td>\n",
       "      <td>0.013606</td>\n",
       "      <td>0.039038</td>\n",
       "      <td>0.023966</td>\n",
       "      <td>0.001535</td>\n",
       "      <td>0.009690</td>\n",
       "      <td>0.265633</td>\n",
       "    </tr>\n",
       "    <tr>\n",
       "      <th>PNEUMONIA</th>\n",
       "      <td>0.087455</td>\n",
       "      <td>-0.209098</td>\n",
       "      <td>NaN</td>\n",
       "      <td>NaN</td>\n",
       "      <td>0.144537</td>\n",
       "      <td>1.000000</td>\n",
       "      <td>-0.141571</td>\n",
       "      <td>-0.070662</td>\n",
       "      <td>0.073829</td>\n",
       "      <td>0.018419</td>\n",
       "      <td>-0.004012</td>\n",
       "      <td>0.002804</td>\n",
       "      <td>0.066206</td>\n",
       "      <td>-0.024215</td>\n",
       "      <td>0.017130</td>\n",
       "      <td>0.064870</td>\n",
       "      <td>0.000361</td>\n",
       "      <td>0.000524</td>\n",
       "      <td>-0.017810</td>\n",
       "      <td>0.128210</td>\n",
       "    </tr>\n",
       "    <tr>\n",
       "      <th>AGE</th>\n",
       "      <td>-0.035726</td>\n",
       "      <td>-0.115908</td>\n",
       "      <td>NaN</td>\n",
       "      <td>NaN</td>\n",
       "      <td>-0.113669</td>\n",
       "      <td>-0.141571</td>\n",
       "      <td>1.000000</td>\n",
       "      <td>0.209979</td>\n",
       "      <td>-0.223083</td>\n",
       "      <td>-0.159466</td>\n",
       "      <td>0.024706</td>\n",
       "      <td>0.021941</td>\n",
       "      <td>-0.354506</td>\n",
       "      <td>0.000086</td>\n",
       "      <td>-0.116579</td>\n",
       "      <td>0.004896</td>\n",
       "      <td>-0.035454</td>\n",
       "      <td>-0.002832</td>\n",
       "      <td>-0.023316</td>\n",
       "      <td>0.022477</td>\n",
       "    </tr>\n",
       "    <tr>\n",
       "      <th>PREGNANT</th>\n",
       "      <td>-0.012878</td>\n",
       "      <td>-0.026368</td>\n",
       "      <td>NaN</td>\n",
       "      <td>NaN</td>\n",
       "      <td>-0.027651</td>\n",
       "      <td>-0.070662</td>\n",
       "      <td>0.209979</td>\n",
       "      <td>1.000000</td>\n",
       "      <td>-0.077774</td>\n",
       "      <td>-0.027293</td>\n",
       "      <td>-0.001517</td>\n",
       "      <td>-0.013720</td>\n",
       "      <td>-0.094106</td>\n",
       "      <td>0.012924</td>\n",
       "      <td>-0.025713</td>\n",
       "      <td>-0.040539</td>\n",
       "      <td>-0.028665</td>\n",
       "      <td>-0.011602</td>\n",
       "      <td>-0.006849</td>\n",
       "      <td>0.032972</td>\n",
       "    </tr>\n",
       "    <tr>\n",
       "      <th>DIABETES</th>\n",
       "      <td>0.022612</td>\n",
       "      <td>0.038321</td>\n",
       "      <td>NaN</td>\n",
       "      <td>NaN</td>\n",
       "      <td>0.058060</td>\n",
       "      <td>0.073829</td>\n",
       "      <td>-0.223083</td>\n",
       "      <td>-0.077774</td>\n",
       "      <td>1.000000</td>\n",
       "      <td>0.058318</td>\n",
       "      <td>0.011040</td>\n",
       "      <td>0.025513</td>\n",
       "      <td>0.334496</td>\n",
       "      <td>0.002637</td>\n",
       "      <td>0.076195</td>\n",
       "      <td>0.084556</td>\n",
       "      <td>0.152480</td>\n",
       "      <td>0.010889</td>\n",
       "      <td>-0.005751</td>\n",
       "      <td>0.009046</td>\n",
       "    </tr>\n",
       "    <tr>\n",
       "      <th>COPD</th>\n",
       "      <td>0.001997</td>\n",
       "      <td>0.010067</td>\n",
       "      <td>NaN</td>\n",
       "      <td>NaN</td>\n",
       "      <td>0.020966</td>\n",
       "      <td>0.018419</td>\n",
       "      <td>-0.159466</td>\n",
       "      <td>-0.027293</td>\n",
       "      <td>0.058318</td>\n",
       "      <td>1.000000</td>\n",
       "      <td>0.034418</td>\n",
       "      <td>0.036497</td>\n",
       "      <td>0.095200</td>\n",
       "      <td>0.031235</td>\n",
       "      <td>0.101638</td>\n",
       "      <td>0.028166</td>\n",
       "      <td>0.022490</td>\n",
       "      <td>0.069107</td>\n",
       "      <td>0.002183</td>\n",
       "      <td>0.001833</td>\n",
       "    </tr>\n",
       "    <tr>\n",
       "      <th>ASTHMA</th>\n",
       "      <td>0.000840</td>\n",
       "      <td>0.000751</td>\n",
       "      <td>NaN</td>\n",
       "      <td>NaN</td>\n",
       "      <td>-0.001246</td>\n",
       "      <td>-0.004012</td>\n",
       "      <td>0.024706</td>\n",
       "      <td>-0.001517</td>\n",
       "      <td>0.011040</td>\n",
       "      <td>0.034418</td>\n",
       "      <td>1.000000</td>\n",
       "      <td>0.021768</td>\n",
       "      <td>0.023096</td>\n",
       "      <td>0.009456</td>\n",
       "      <td>0.017250</td>\n",
       "      <td>0.054448</td>\n",
       "      <td>-0.006763</td>\n",
       "      <td>0.014055</td>\n",
       "      <td>-0.016875</td>\n",
       "      <td>-0.004402</td>\n",
       "    </tr>\n",
       "    <tr>\n",
       "      <th>INMSUPR</th>\n",
       "      <td>-0.008560</td>\n",
       "      <td>0.019945</td>\n",
       "      <td>NaN</td>\n",
       "      <td>NaN</td>\n",
       "      <td>0.011804</td>\n",
       "      <td>0.002804</td>\n",
       "      <td>0.021941</td>\n",
       "      <td>-0.013720</td>\n",
       "      <td>0.025513</td>\n",
       "      <td>0.036497</td>\n",
       "      <td>0.021768</td>\n",
       "      <td>1.000000</td>\n",
       "      <td>0.003044</td>\n",
       "      <td>0.123490</td>\n",
       "      <td>0.059345</td>\n",
       "      <td>0.000407</td>\n",
       "      <td>0.092644</td>\n",
       "      <td>0.019985</td>\n",
       "      <td>-0.001646</td>\n",
       "      <td>0.011796</td>\n",
       "    </tr>\n",
       "    <tr>\n",
       "      <th>HIPERTENSION</th>\n",
       "      <td>0.027874</td>\n",
       "      <td>0.079355</td>\n",
       "      <td>NaN</td>\n",
       "      <td>NaN</td>\n",
       "      <td>0.072198</td>\n",
       "      <td>0.066206</td>\n",
       "      <td>-0.354506</td>\n",
       "      <td>-0.094106</td>\n",
       "      <td>0.334496</td>\n",
       "      <td>0.095200</td>\n",
       "      <td>0.023096</td>\n",
       "      <td>0.003044</td>\n",
       "      <td>1.000000</td>\n",
       "      <td>0.025510</td>\n",
       "      <td>0.140209</td>\n",
       "      <td>0.127844</td>\n",
       "      <td>0.167736</td>\n",
       "      <td>0.018346</td>\n",
       "      <td>-0.010252</td>\n",
       "      <td>0.001978</td>\n",
       "    </tr>\n",
       "    <tr>\n",
       "      <th>OTHER_DISEASE</th>\n",
       "      <td>-0.001508</td>\n",
       "      <td>0.099491</td>\n",
       "      <td>NaN</td>\n",
       "      <td>NaN</td>\n",
       "      <td>0.032356</td>\n",
       "      <td>-0.024215</td>\n",
       "      <td>0.000086</td>\n",
       "      <td>0.012924</td>\n",
       "      <td>0.002637</td>\n",
       "      <td>0.031235</td>\n",
       "      <td>0.009456</td>\n",
       "      <td>0.123490</td>\n",
       "      <td>0.025510</td>\n",
       "      <td>1.000000</td>\n",
       "      <td>0.065303</td>\n",
       "      <td>0.009419</td>\n",
       "      <td>0.033441</td>\n",
       "      <td>0.027134</td>\n",
       "      <td>-0.006919</td>\n",
       "      <td>-0.003796</td>\n",
       "    </tr>\n",
       "    <tr>\n",
       "      <th>CARDIOVASCULAR</th>\n",
       "      <td>0.002115</td>\n",
       "      <td>0.004364</td>\n",
       "      <td>NaN</td>\n",
       "      <td>NaN</td>\n",
       "      <td>0.013606</td>\n",
       "      <td>0.017130</td>\n",
       "      <td>-0.116579</td>\n",
       "      <td>-0.025713</td>\n",
       "      <td>0.076195</td>\n",
       "      <td>0.101638</td>\n",
       "      <td>0.017250</td>\n",
       "      <td>0.059345</td>\n",
       "      <td>0.140209</td>\n",
       "      <td>0.065303</td>\n",
       "      <td>1.000000</td>\n",
       "      <td>0.059245</td>\n",
       "      <td>0.084174</td>\n",
       "      <td>0.034467</td>\n",
       "      <td>-0.003094</td>\n",
       "      <td>0.009080</td>\n",
       "    </tr>\n",
       "    <tr>\n",
       "      <th>OBESITY</th>\n",
       "      <td>-0.018104</td>\n",
       "      <td>-0.036437</td>\n",
       "      <td>NaN</td>\n",
       "      <td>NaN</td>\n",
       "      <td>0.039038</td>\n",
       "      <td>0.064870</td>\n",
       "      <td>0.004896</td>\n",
       "      <td>-0.040539</td>\n",
       "      <td>0.084556</td>\n",
       "      <td>0.028166</td>\n",
       "      <td>0.054448</td>\n",
       "      <td>0.000407</td>\n",
       "      <td>0.127844</td>\n",
       "      <td>0.009419</td>\n",
       "      <td>0.059245</td>\n",
       "      <td>1.000000</td>\n",
       "      <td>-0.014058</td>\n",
       "      <td>0.065567</td>\n",
       "      <td>-0.029346</td>\n",
       "      <td>0.033210</td>\n",
       "    </tr>\n",
       "    <tr>\n",
       "      <th>RENAL_CHRONIC</th>\n",
       "      <td>0.020643</td>\n",
       "      <td>0.067745</td>\n",
       "      <td>NaN</td>\n",
       "      <td>NaN</td>\n",
       "      <td>0.023966</td>\n",
       "      <td>0.000361</td>\n",
       "      <td>-0.035454</td>\n",
       "      <td>-0.028665</td>\n",
       "      <td>0.152480</td>\n",
       "      <td>0.022490</td>\n",
       "      <td>-0.006763</td>\n",
       "      <td>0.092644</td>\n",
       "      <td>0.167736</td>\n",
       "      <td>0.033441</td>\n",
       "      <td>0.084174</td>\n",
       "      <td>-0.014058</td>\n",
       "      <td>1.000000</td>\n",
       "      <td>0.014084</td>\n",
       "      <td>0.002041</td>\n",
       "      <td>-0.012662</td>\n",
       "    </tr>\n",
       "    <tr>\n",
       "      <th>TOBACCO</th>\n",
       "      <td>-0.010098</td>\n",
       "      <td>0.005464</td>\n",
       "      <td>NaN</td>\n",
       "      <td>NaN</td>\n",
       "      <td>0.001535</td>\n",
       "      <td>0.000524</td>\n",
       "      <td>-0.002832</td>\n",
       "      <td>-0.011602</td>\n",
       "      <td>0.010889</td>\n",
       "      <td>0.069107</td>\n",
       "      <td>0.014055</td>\n",
       "      <td>0.019985</td>\n",
       "      <td>0.018346</td>\n",
       "      <td>0.027134</td>\n",
       "      <td>0.034467</td>\n",
       "      <td>0.065567</td>\n",
       "      <td>0.014084</td>\n",
       "      <td>1.000000</td>\n",
       "      <td>0.005445</td>\n",
       "      <td>-0.006671</td>\n",
       "    </tr>\n",
       "    <tr>\n",
       "      <th>CLASIFFICATION_FINAL</th>\n",
       "      <td>-0.063541</td>\n",
       "      <td>-0.049613</td>\n",
       "      <td>NaN</td>\n",
       "      <td>NaN</td>\n",
       "      <td>0.009690</td>\n",
       "      <td>-0.017810</td>\n",
       "      <td>-0.023316</td>\n",
       "      <td>-0.006849</td>\n",
       "      <td>-0.005751</td>\n",
       "      <td>0.002183</td>\n",
       "      <td>-0.016875</td>\n",
       "      <td>-0.001646</td>\n",
       "      <td>-0.010252</td>\n",
       "      <td>-0.006919</td>\n",
       "      <td>-0.003094</td>\n",
       "      <td>-0.029346</td>\n",
       "      <td>0.002041</td>\n",
       "      <td>0.005445</td>\n",
       "      <td>1.000000</td>\n",
       "      <td>0.004270</td>\n",
       "    </tr>\n",
       "    <tr>\n",
       "      <th>ICU</th>\n",
       "      <td>-0.032861</td>\n",
       "      <td>-0.183154</td>\n",
       "      <td>NaN</td>\n",
       "      <td>NaN</td>\n",
       "      <td>0.265633</td>\n",
       "      <td>0.128210</td>\n",
       "      <td>0.022477</td>\n",
       "      <td>0.032972</td>\n",
       "      <td>0.009046</td>\n",
       "      <td>0.001833</td>\n",
       "      <td>-0.004402</td>\n",
       "      <td>0.011796</td>\n",
       "      <td>0.001978</td>\n",
       "      <td>-0.003796</td>\n",
       "      <td>0.009080</td>\n",
       "      <td>0.033210</td>\n",
       "      <td>-0.012662</td>\n",
       "      <td>-0.006671</td>\n",
       "      <td>0.004270</td>\n",
       "      <td>1.000000</td>\n",
       "    </tr>\n",
       "  </tbody>\n",
       "</table>\n",
       "</div>"
      ],
      "text/plain": [
       "                         USMER  MEDICAL_UNIT  SEX  PATIENT_TYPE   INTUBED  \\\n",
       "USMER                 1.000000     -0.024456  NaN           NaN  0.011815   \n",
       "MEDICAL_UNIT         -0.024456      1.000000  NaN           NaN  0.092775   \n",
       "SEX                        NaN           NaN  NaN           NaN       NaN   \n",
       "PATIENT_TYPE               NaN           NaN  NaN           NaN       NaN   \n",
       "INTUBED               0.011815      0.092775  NaN           NaN  1.000000   \n",
       "PNEUMONIA             0.087455     -0.209098  NaN           NaN  0.144537   \n",
       "AGE                  -0.035726     -0.115908  NaN           NaN -0.113669   \n",
       "PREGNANT             -0.012878     -0.026368  NaN           NaN -0.027651   \n",
       "DIABETES              0.022612      0.038321  NaN           NaN  0.058060   \n",
       "COPD                  0.001997      0.010067  NaN           NaN  0.020966   \n",
       "ASTHMA                0.000840      0.000751  NaN           NaN -0.001246   \n",
       "INMSUPR              -0.008560      0.019945  NaN           NaN  0.011804   \n",
       "HIPERTENSION          0.027874      0.079355  NaN           NaN  0.072198   \n",
       "OTHER_DISEASE        -0.001508      0.099491  NaN           NaN  0.032356   \n",
       "CARDIOVASCULAR        0.002115      0.004364  NaN           NaN  0.013606   \n",
       "OBESITY              -0.018104     -0.036437  NaN           NaN  0.039038   \n",
       "RENAL_CHRONIC         0.020643      0.067745  NaN           NaN  0.023966   \n",
       "TOBACCO              -0.010098      0.005464  NaN           NaN  0.001535   \n",
       "CLASIFFICATION_FINAL -0.063541     -0.049613  NaN           NaN  0.009690   \n",
       "ICU                  -0.032861     -0.183154  NaN           NaN  0.265633   \n",
       "\n",
       "                      PNEUMONIA       AGE  PREGNANT  DIABETES      COPD  \\\n",
       "USMER                  0.087455 -0.035726 -0.012878  0.022612  0.001997   \n",
       "MEDICAL_UNIT          -0.209098 -0.115908 -0.026368  0.038321  0.010067   \n",
       "SEX                         NaN       NaN       NaN       NaN       NaN   \n",
       "PATIENT_TYPE                NaN       NaN       NaN       NaN       NaN   \n",
       "INTUBED                0.144537 -0.113669 -0.027651  0.058060  0.020966   \n",
       "PNEUMONIA              1.000000 -0.141571 -0.070662  0.073829  0.018419   \n",
       "AGE                   -0.141571  1.000000  0.209979 -0.223083 -0.159466   \n",
       "PREGNANT              -0.070662  0.209979  1.000000 -0.077774 -0.027293   \n",
       "DIABETES               0.073829 -0.223083 -0.077774  1.000000  0.058318   \n",
       "COPD                   0.018419 -0.159466 -0.027293  0.058318  1.000000   \n",
       "ASTHMA                -0.004012  0.024706 -0.001517  0.011040  0.034418   \n",
       "INMSUPR                0.002804  0.021941 -0.013720  0.025513  0.036497   \n",
       "HIPERTENSION           0.066206 -0.354506 -0.094106  0.334496  0.095200   \n",
       "OTHER_DISEASE         -0.024215  0.000086  0.012924  0.002637  0.031235   \n",
       "CARDIOVASCULAR         0.017130 -0.116579 -0.025713  0.076195  0.101638   \n",
       "OBESITY                0.064870  0.004896 -0.040539  0.084556  0.028166   \n",
       "RENAL_CHRONIC          0.000361 -0.035454 -0.028665  0.152480  0.022490   \n",
       "TOBACCO                0.000524 -0.002832 -0.011602  0.010889  0.069107   \n",
       "CLASIFFICATION_FINAL  -0.017810 -0.023316 -0.006849 -0.005751  0.002183   \n",
       "ICU                    0.128210  0.022477  0.032972  0.009046  0.001833   \n",
       "\n",
       "                        ASTHMA   INMSUPR  HIPERTENSION  OTHER_DISEASE  \\\n",
       "USMER                 0.000840 -0.008560      0.027874      -0.001508   \n",
       "MEDICAL_UNIT          0.000751  0.019945      0.079355       0.099491   \n",
       "SEX                        NaN       NaN           NaN            NaN   \n",
       "PATIENT_TYPE               NaN       NaN           NaN            NaN   \n",
       "INTUBED              -0.001246  0.011804      0.072198       0.032356   \n",
       "PNEUMONIA            -0.004012  0.002804      0.066206      -0.024215   \n",
       "AGE                   0.024706  0.021941     -0.354506       0.000086   \n",
       "PREGNANT             -0.001517 -0.013720     -0.094106       0.012924   \n",
       "DIABETES              0.011040  0.025513      0.334496       0.002637   \n",
       "COPD                  0.034418  0.036497      0.095200       0.031235   \n",
       "ASTHMA                1.000000  0.021768      0.023096       0.009456   \n",
       "INMSUPR               0.021768  1.000000      0.003044       0.123490   \n",
       "HIPERTENSION          0.023096  0.003044      1.000000       0.025510   \n",
       "OTHER_DISEASE         0.009456  0.123490      0.025510       1.000000   \n",
       "CARDIOVASCULAR        0.017250  0.059345      0.140209       0.065303   \n",
       "OBESITY               0.054448  0.000407      0.127844       0.009419   \n",
       "RENAL_CHRONIC        -0.006763  0.092644      0.167736       0.033441   \n",
       "TOBACCO               0.014055  0.019985      0.018346       0.027134   \n",
       "CLASIFFICATION_FINAL -0.016875 -0.001646     -0.010252      -0.006919   \n",
       "ICU                  -0.004402  0.011796      0.001978      -0.003796   \n",
       "\n",
       "                      CARDIOVASCULAR   OBESITY  RENAL_CHRONIC   TOBACCO  \\\n",
       "USMER                       0.002115 -0.018104       0.020643 -0.010098   \n",
       "MEDICAL_UNIT                0.004364 -0.036437       0.067745  0.005464   \n",
       "SEX                              NaN       NaN            NaN       NaN   \n",
       "PATIENT_TYPE                     NaN       NaN            NaN       NaN   \n",
       "INTUBED                     0.013606  0.039038       0.023966  0.001535   \n",
       "PNEUMONIA                   0.017130  0.064870       0.000361  0.000524   \n",
       "AGE                        -0.116579  0.004896      -0.035454 -0.002832   \n",
       "PREGNANT                   -0.025713 -0.040539      -0.028665 -0.011602   \n",
       "DIABETES                    0.076195  0.084556       0.152480  0.010889   \n",
       "COPD                        0.101638  0.028166       0.022490  0.069107   \n",
       "ASTHMA                      0.017250  0.054448      -0.006763  0.014055   \n",
       "INMSUPR                     0.059345  0.000407       0.092644  0.019985   \n",
       "HIPERTENSION                0.140209  0.127844       0.167736  0.018346   \n",
       "OTHER_DISEASE               0.065303  0.009419       0.033441  0.027134   \n",
       "CARDIOVASCULAR              1.000000  0.059245       0.084174  0.034467   \n",
       "OBESITY                     0.059245  1.000000      -0.014058  0.065567   \n",
       "RENAL_CHRONIC               0.084174 -0.014058       1.000000  0.014084   \n",
       "TOBACCO                     0.034467  0.065567       0.014084  1.000000   \n",
       "CLASIFFICATION_FINAL       -0.003094 -0.029346       0.002041  0.005445   \n",
       "ICU                         0.009080  0.033210      -0.012662 -0.006671   \n",
       "\n",
       "                      CLASIFFICATION_FINAL       ICU  \n",
       "USMER                            -0.063541 -0.032861  \n",
       "MEDICAL_UNIT                     -0.049613 -0.183154  \n",
       "SEX                                    NaN       NaN  \n",
       "PATIENT_TYPE                           NaN       NaN  \n",
       "INTUBED                           0.009690  0.265633  \n",
       "PNEUMONIA                        -0.017810  0.128210  \n",
       "AGE                              -0.023316  0.022477  \n",
       "PREGNANT                         -0.006849  0.032972  \n",
       "DIABETES                         -0.005751  0.009046  \n",
       "COPD                              0.002183  0.001833  \n",
       "ASTHMA                           -0.016875 -0.004402  \n",
       "INMSUPR                          -0.001646  0.011796  \n",
       "HIPERTENSION                     -0.010252  0.001978  \n",
       "OTHER_DISEASE                    -0.006919 -0.003796  \n",
       "CARDIOVASCULAR                   -0.003094  0.009080  \n",
       "OBESITY                          -0.029346  0.033210  \n",
       "RENAL_CHRONIC                     0.002041 -0.012662  \n",
       "TOBACCO                           0.005445 -0.006671  \n",
       "CLASIFFICATION_FINAL              1.000000  0.004270  \n",
       "ICU                               0.004270  1.000000  "
      ]
     },
     "execution_count": 12,
     "metadata": {},
     "output_type": "execute_result"
    }
   ],
   "source": [
    "data.corr()"
   ]
  },
  {
   "cell_type": "code",
   "execution_count": 13,
   "id": "dfd94ed3",
   "metadata": {},
   "outputs": [
    {
     "data": {
      "image/png": "[encoded data removed]",
      "text/plain": [
       "<Figure size 720x720 with 2 Axes>"
      ]
     },
     "metadata": {
      "needs_background": "light"
     },
     "output_type": "display_data"
    }
   ],
   "source": [
    "features_mean= list(data.columns[1:11])\n",
    "plt.figure(figsize=(10,10))\n",
    "sns.heatmap(data[features_mean].corr(), annot=True, square=True, cmap='coolwarm')\n",
    "plt.show()"
   ]
  },
  {
   "cell_type": "code",
   "execution_count": 14,
   "id": "153158f5",
   "metadata": {},
   "outputs": [],
   "source": [
    "## Based on above correlation plot these variables have correlation with each other."
   ]
  },
  {
   "cell_type": "code",
   "execution_count": 15,
   "id": "44a17f55",
   "metadata": {},
   "outputs": [
    {
     "data": {
      "text/plain": [
       "<AxesSubplot:xlabel='USMER', ylabel='count'>"
      ]
     },
     "execution_count": 15,
     "metadata": {},
     "output_type": "execute_result"
    },
    {
     "data": {
      "image/png": "[encoded data removed]",
      "text/plain": [
       "<Figure size 432x288 with 1 Axes>"
      ]
     },
     "metadata": {
      "needs_background": "light"
     },
     "output_type": "display_data"
    }
   ],
   "source": [
    "sns.countplot(x='USMER',hue='DIABETES',data=data)"
   ]
  },
  {
   "cell_type": "code",
   "execution_count": 16,
   "id": "d7bd9579",
   "metadata": {},
   "outputs": [
    {
     "data": {
      "text/plain": [
       "<AxesSubplot:xlabel='USMER', ylabel='count'>"
      ]
     },
     "execution_count": 16,
     "metadata": {},
     "output_type": "execute_result"
    },
    {
     "data": {
      "image/png": "[encoded data removed]",
      "text/plain": [
       "<Figure size 432x288 with 1 Axes>"
      ]
     },
     "metadata": {
      "needs_background": "light"
     },
     "output_type": "display_data"
    }
   ],
   "source": [
    "sns.countplot(x='USMER',hue='ASTHMA',data=data)"
   ]
  },
  {
   "cell_type": "code",
   "execution_count": 17,
   "id": "cead91ed",
   "metadata": {},
   "outputs": [
    {
     "data": {
      "text/plain": [
       "<AxesSubplot:xlabel='USMER', ylabel='count'>"
      ]
     },
     "execution_count": 17,
     "metadata": {},
     "output_type": "execute_result"
    },
    {
     "data": {
      "image/png": "[encoded data removed]",
      "text/plain": [
       "<Figure size 432x288 with 1 Axes>"
      ]
     },
     "metadata": {
      "needs_background": "light"
     },
     "output_type": "display_data"
    }
   ],
   "source": [
    "sns.countplot(x='USMER',hue='OBESITY',data=data)"
   ]
  },
  {
   "cell_type": "code",
   "execution_count": 18,
   "id": "631efb7f",
   "metadata": {},
   "outputs": [
    {
     "data": {
      "text/plain": [
       "<AxesSubplot:xlabel='USMER', ylabel='count'>"
      ]
     },
     "execution_count": 18,
     "metadata": {},
     "output_type": "execute_result"
    },
    {
     "data": {
      "image/png": "[encoded data removed]",
      "text/plain": [
       "<Figure size 432x288 with 1 Axes>"
      ]
     },
     "metadata": {
      "needs_background": "light"
     },
     "output_type": "display_data"
    }
   ],
   "source": [
    "sns.countplot(x='USMER',hue='HIPERTENSION',data=data)"
   ]
  },
  {
   "cell_type": "code",
   "execution_count": 19,
   "id": "6e2c6121",
   "metadata": {},
   "outputs": [
    {
     "data": {
      "text/plain": [
       "<AxesSubplot:xlabel='USMER', ylabel='count'>"
      ]
     },
     "execution_count": 19,
     "metadata": {},
     "output_type": "execute_result"
    },
    {
     "data": {
      "image/png": "[encoded data removed]",
      "text/plain": [
       "<Figure size 432x288 with 1 Axes>"
      ]
     },
     "metadata": {
      "needs_background": "light"
     },
     "output_type": "display_data"
    }
   ],
   "source": [
    "sns.countplot(x='USMER',hue='OTHER_DISEASE',data=data)"
   ]
  },
  {
   "cell_type": "code",
   "execution_count": 20,
   "id": "2a633ffb",
   "metadata": {},
   "outputs": [
    {
     "data": {
      "text/plain": [
       "<AxesSubplot:xlabel='USMER', ylabel='count'>"
      ]
     },
     "execution_count": 20,
     "metadata": {},
     "output_type": "execute_result"
    },
    {
     "data": {
      "image/png": "[encoded data removed]",
      "text/plain": [
       "<Figure size 432x288 with 1 Axes>"
      ]
     },
     "metadata": {
      "needs_background": "light"
     },
     "output_type": "display_data"
    }
   ],
   "source": [
    "sns.countplot(x='USMER',hue='PREGNANT',data=data)"
   ]
  },
  {
   "cell_type": "markdown",
   "id": "2ead75b2",
   "metadata": {},
   "source": [
    "#### We ploted many plots to check whether any particular disease have any relation with covid positive or not."
   ]
  },
  {
   "cell_type": "code",
   "execution_count": 21,
   "id": "24073ff3",
   "metadata": {},
   "outputs": [],
   "source": [
    "### We will drop date column from the dataset as almost 97000 dates are invalid such 9999-99-99."
   ]
  },
  {
   "cell_type": "code",
   "execution_count": 22,
   "id": "ec17c9af",
   "metadata": {},
   "outputs": [],
   "source": [
    "data.drop([\"DATE_DIED\"], axis = 1, inplace = True)"
   ]
  },
  {
   "cell_type": "code",
   "execution_count": 23,
   "id": "598d5319",
   "metadata": {},
   "outputs": [
    {
     "data": {
      "text/html": [
       "<div>\n",
       "<style scoped>\n",
       "    .dataframe tbody tr th:only-of-type {\n",
       "        vertical-align: middle;\n",
       "    }\n",
       "\n",
       "    .dataframe tbody tr th {\n",
       "        vertical-align: top;\n",
       "    }\n",
       "\n",
       "    .dataframe thead th {\n",
       "        text-align: right;\n",
       "    }\n",
       "</style>\n",
       "<table border=\"1\" class=\"dataframe\">\n",
       "  <thead>\n",
       "    <tr style=\"text-align: right;\">\n",
       "      <th></th>\n",
       "      <th>USMER</th>\n",
       "      <th>MEDICAL_UNIT</th>\n",
       "      <th>SEX</th>\n",
       "      <th>PATIENT_TYPE</th>\n",
       "      <th>INTUBED</th>\n",
       "      <th>PNEUMONIA</th>\n",
       "      <th>AGE</th>\n",
       "      <th>PREGNANT</th>\n",
       "      <th>DIABETES</th>\n",
       "      <th>COPD</th>\n",
       "      <th>ASTHMA</th>\n",
       "      <th>INMSUPR</th>\n",
       "      <th>HIPERTENSION</th>\n",
       "      <th>OTHER_DISEASE</th>\n",
       "      <th>CARDIOVASCULAR</th>\n",
       "      <th>OBESITY</th>\n",
       "      <th>RENAL_CHRONIC</th>\n",
       "      <th>TOBACCO</th>\n",
       "      <th>CLASIFFICATION_FINAL</th>\n",
       "      <th>ICU</th>\n",
       "    </tr>\n",
       "  </thead>\n",
       "  <tbody>\n",
       "    <tr>\n",
       "      <th>5</th>\n",
       "      <td>2</td>\n",
       "      <td>1</td>\n",
       "      <td>1</td>\n",
       "      <td>2</td>\n",
       "      <td>2</td>\n",
       "      <td>1</td>\n",
       "      <td>40</td>\n",
       "      <td>2</td>\n",
       "      <td>2</td>\n",
       "      <td>2</td>\n",
       "      <td>2</td>\n",
       "      <td>2</td>\n",
       "      <td>2</td>\n",
       "      <td>2</td>\n",
       "      <td>2</td>\n",
       "      <td>2</td>\n",
       "      <td>2</td>\n",
       "      <td>2</td>\n",
       "      <td>3</td>\n",
       "      <td>2</td>\n",
       "    </tr>\n",
       "    <tr>\n",
       "      <th>8</th>\n",
       "      <td>2</td>\n",
       "      <td>1</td>\n",
       "      <td>1</td>\n",
       "      <td>2</td>\n",
       "      <td>2</td>\n",
       "      <td>2</td>\n",
       "      <td>37</td>\n",
       "      <td>2</td>\n",
       "      <td>1</td>\n",
       "      <td>2</td>\n",
       "      <td>2</td>\n",
       "      <td>2</td>\n",
       "      <td>1</td>\n",
       "      <td>2</td>\n",
       "      <td>2</td>\n",
       "      <td>1</td>\n",
       "      <td>2</td>\n",
       "      <td>2</td>\n",
       "      <td>3</td>\n",
       "      <td>2</td>\n",
       "    </tr>\n",
       "    <tr>\n",
       "      <th>9</th>\n",
       "      <td>2</td>\n",
       "      <td>1</td>\n",
       "      <td>1</td>\n",
       "      <td>2</td>\n",
       "      <td>2</td>\n",
       "      <td>2</td>\n",
       "      <td>25</td>\n",
       "      <td>2</td>\n",
       "      <td>2</td>\n",
       "      <td>2</td>\n",
       "      <td>2</td>\n",
       "      <td>2</td>\n",
       "      <td>2</td>\n",
       "      <td>2</td>\n",
       "      <td>2</td>\n",
       "      <td>2</td>\n",
       "      <td>2</td>\n",
       "      <td>2</td>\n",
       "      <td>3</td>\n",
       "      <td>2</td>\n",
       "    </tr>\n",
       "    <tr>\n",
       "      <th>16</th>\n",
       "      <td>2</td>\n",
       "      <td>1</td>\n",
       "      <td>1</td>\n",
       "      <td>2</td>\n",
       "      <td>2</td>\n",
       "      <td>1</td>\n",
       "      <td>80</td>\n",
       "      <td>2</td>\n",
       "      <td>2</td>\n",
       "      <td>2</td>\n",
       "      <td>2</td>\n",
       "      <td>2</td>\n",
       "      <td>1</td>\n",
       "      <td>2</td>\n",
       "      <td>2</td>\n",
       "      <td>2</td>\n",
       "      <td>2</td>\n",
       "      <td>2</td>\n",
       "      <td>3</td>\n",
       "      <td>1</td>\n",
       "    </tr>\n",
       "    <tr>\n",
       "      <th>162</th>\n",
       "      <td>1</td>\n",
       "      <td>2</td>\n",
       "      <td>1</td>\n",
       "      <td>2</td>\n",
       "      <td>2</td>\n",
       "      <td>1</td>\n",
       "      <td>10</td>\n",
       "      <td>2</td>\n",
       "      <td>2</td>\n",
       "      <td>2</td>\n",
       "      <td>2</td>\n",
       "      <td>2</td>\n",
       "      <td>2</td>\n",
       "      <td>1</td>\n",
       "      <td>1</td>\n",
       "      <td>2</td>\n",
       "      <td>2</td>\n",
       "      <td>2</td>\n",
       "      <td>3</td>\n",
       "      <td>2</td>\n",
       "    </tr>\n",
       "  </tbody>\n",
       "</table>\n",
       "</div>"
      ],
      "text/plain": [
       "     USMER  MEDICAL_UNIT  SEX  PATIENT_TYPE  INTUBED  PNEUMONIA  AGE  \\\n",
       "5        2             1    1             2        2          1   40   \n",
       "8        2             1    1             2        2          2   37   \n",
       "9        2             1    1             2        2          2   25   \n",
       "16       2             1    1             2        2          1   80   \n",
       "162      1             2    1             2        2          1   10   \n",
       "\n",
       "     PREGNANT  DIABETES  COPD  ASTHMA  INMSUPR  HIPERTENSION  OTHER_DISEASE  \\\n",
       "5           2         2     2       2        2             2              2   \n",
       "8           2         1     2       2        2             1              2   \n",
       "9           2         2     2       2        2             2              2   \n",
       "16          2         2     2       2        2             1              2   \n",
       "162         2         2     2       2        2             2              1   \n",
       "\n",
       "     CARDIOVASCULAR  OBESITY  RENAL_CHRONIC  TOBACCO  CLASIFFICATION_FINAL  \\\n",
       "5                 2        2              2        2                     3   \n",
       "8                 2        1              2        2                     3   \n",
       "9                 2        2              2        2                     3   \n",
       "16                2        2              2        2                     3   \n",
       "162               1        2              2        2                     3   \n",
       "\n",
       "     ICU  \n",
       "5      2  \n",
       "8      2  \n",
       "9      2  \n",
       "16     1  \n",
       "162    2  "
      ]
     },
     "execution_count": 23,
     "metadata": {},
     "output_type": "execute_result"
    }
   ],
   "source": [
    "data.head()"
   ]
  },
  {
   "cell_type": "markdown",
   "id": "14b64aa4",
   "metadata": {},
   "source": [
    "OneHotEncoder Treatment"
   ]
  },
  {
   "cell_type": "code",
   "execution_count": 24,
   "id": "f4358647",
   "metadata": {},
   "outputs": [],
   "source": [
    "data.SEX = data.SEX.apply(lambda x: x if x == 1 else 0)  \n",
    "data.USMER = data.USMER.apply(lambda x: x if x == 1 else 0)                     # no = 0, yes = 1\n",
    "data.PATIENT_TYPE = data.PATIENT_TYPE.apply(lambda x: 0 if x == 1 else 1)     \n",
    "data.PNEUMONIA = data.PNEUMONIA.apply(lambda x: x if x == 1 else 0)           \n",
    "data.DIABETES = data.DIABETES.apply(lambda x: x if x == 1 else 0)             \n",
    "data.COPD = data.COPD.apply(lambda x: x if x == 1 else 0)                     \n",
    "data.ASTHMA = data.ASTHMA.apply(lambda x: x if x == 1 else 0)                 \n",
    "data.INMSUPR = data.INMSUPR.apply(lambda x: x if x == 1 else 0)               \n",
    "data.HIPERTENSION = data.HIPERTENSION.apply(lambda x: x if x == 1 else 0)     \n",
    "data.OTHER_DISEASE = data.OTHER_DISEASE.apply(lambda x: x if x == 1 else -0)  \n",
    "data.CARDIOVASCULAR = data.CARDIOVASCULAR.apply(lambda x: x if x == 1 else 0) \n",
    "data.OBESITY = data.OBESITY.apply(lambda x: x if x == 1 else 0)               \n",
    "data.RENAL_CHRONIC = data.RENAL_CHRONIC.apply(lambda x: x if x == 1 else 0)   \n",
    "data.TOBACCO = data.TOBACCO.apply(lambda x: x if x == 1 else 0)               \n",
    "data.PREGNANT = data.PREGNANT.apply(lambda x: x if x == 1 else 0)           \n",
    "data.INTUBED = data.INTUBED.apply(lambda x: x if x == 1 else 0)                   \n",
    "data.ICU = data.ICU.apply(lambda x: x if x == 1 else 0)"
   ]
  },
  {
   "cell_type": "markdown",
   "id": "e7a729cf",
   "metadata": {},
   "source": [
    "Creating the label column from summing two columns of the data. This column represents whether the patient is at risk from covid"
   ]
  },
  {
   "cell_type": "code",
   "execution_count": 25,
   "id": "14f873cf",
   "metadata": {},
   "outputs": [],
   "source": [
    "data['AT_RISK'] = data['INTUBED'] + data['ICU']\n",
    "data.AT_RISK = data.AT_RISK.apply(lambda x: 1 if x > 0 else 0) \n",
    "\n",
    "# dropping below columns as they were no longer needed\n",
    "data.drop(columns = ['CLASIFFICATION_FINAL', 'INTUBED', 'ICU'], inplace=True)"
   ]
  },
  {
   "cell_type": "code",
   "execution_count": 26,
   "id": "2c41447f",
   "metadata": {},
   "outputs": [
    {
     "name": "stdout",
     "output_type": "stream",
     "text": [
      "<class 'pandas.core.frame.DataFrame'>\n",
      "Int64Index: 41330 entries, 5 to 1047933\n",
      "Data columns (total 18 columns):\n",
      " #   Column          Non-Null Count  Dtype\n",
      "---  ------          --------------  -----\n",
      " 0   USMER           41330 non-null  int64\n",
      " 1   MEDICAL_UNIT    41330 non-null  int64\n",
      " 2   SEX             41330 non-null  int64\n",
      " 3   PATIENT_TYPE    41330 non-null  int64\n",
      " 4   PNEUMONIA       41330 non-null  int64\n",
      " 5   AGE             41330 non-null  int64\n",
      " 6   PREGNANT        41330 non-null  int64\n",
      " 7   DIABETES        41330 non-null  int64\n",
      " 8   COPD            41330 non-null  int64\n",
      " 9   ASTHMA          41330 non-null  int64\n",
      " 10  INMSUPR         41330 non-null  int64\n",
      " 11  HIPERTENSION    41330 non-null  int64\n",
      " 12  OTHER_DISEASE   41330 non-null  int64\n",
      " 13  CARDIOVASCULAR  41330 non-null  int64\n",
      " 14  OBESITY         41330 non-null  int64\n",
      " 15  RENAL_CHRONIC   41330 non-null  int64\n",
      " 16  TOBACCO         41330 non-null  int64\n",
      " 17  AT_RISK         41330 non-null  int64\n",
      "dtypes: int64(18)\n",
      "memory usage: 6.0 MB\n"
     ]
    }
   ],
   "source": [
    "data.info()"
   ]
  },
  {
   "cell_type": "markdown",
   "id": "b0bd5873",
   "metadata": {},
   "source": [
    "### Step3: Split the data into train and test"
   ]
  },
  {
   "cell_type": "code",
   "execution_count": 27,
   "id": "5860bb91",
   "metadata": {},
   "outputs": [],
   "source": [
    "X = data.drop('AT_RISK' , axis=1)\n",
    "y = data['AT_RISK']"
   ]
  },
  {
   "cell_type": "code",
   "execution_count": 28,
   "id": "23ea0536",
   "metadata": {},
   "outputs": [
    {
     "data": {
      "text/html": [
       "<div>\n",
       "<style scoped>\n",
       "    .dataframe tbody tr th:only-of-type {\n",
       "        vertical-align: middle;\n",
       "    }\n",
       "\n",
       "    .dataframe tbody tr th {\n",
       "        vertical-align: top;\n",
       "    }\n",
       "\n",
       "    .dataframe thead th {\n",
       "        text-align: right;\n",
       "    }\n",
       "</style>\n",
       "<table border=\"1\" class=\"dataframe\">\n",
       "  <thead>\n",
       "    <tr style=\"text-align: right;\">\n",
       "      <th></th>\n",
       "      <th>USMER</th>\n",
       "      <th>MEDICAL_UNIT</th>\n",
       "      <th>SEX</th>\n",
       "      <th>PATIENT_TYPE</th>\n",
       "      <th>PNEUMONIA</th>\n",
       "      <th>AGE</th>\n",
       "      <th>PREGNANT</th>\n",
       "      <th>DIABETES</th>\n",
       "      <th>COPD</th>\n",
       "      <th>ASTHMA</th>\n",
       "      <th>INMSUPR</th>\n",
       "      <th>HIPERTENSION</th>\n",
       "      <th>OTHER_DISEASE</th>\n",
       "      <th>CARDIOVASCULAR</th>\n",
       "      <th>OBESITY</th>\n",
       "      <th>RENAL_CHRONIC</th>\n",
       "      <th>TOBACCO</th>\n",
       "    </tr>\n",
       "  </thead>\n",
       "  <tbody>\n",
       "    <tr>\n",
       "      <th>5</th>\n",
       "      <td>0</td>\n",
       "      <td>1</td>\n",
       "      <td>1</td>\n",
       "      <td>1</td>\n",
       "      <td>1</td>\n",
       "      <td>40</td>\n",
       "      <td>0</td>\n",
       "      <td>0</td>\n",
       "      <td>0</td>\n",
       "      <td>0</td>\n",
       "      <td>0</td>\n",
       "      <td>0</td>\n",
       "      <td>0</td>\n",
       "      <td>0</td>\n",
       "      <td>0</td>\n",
       "      <td>0</td>\n",
       "      <td>0</td>\n",
       "    </tr>\n",
       "    <tr>\n",
       "      <th>8</th>\n",
       "      <td>0</td>\n",
       "      <td>1</td>\n",
       "      <td>1</td>\n",
       "      <td>1</td>\n",
       "      <td>0</td>\n",
       "      <td>37</td>\n",
       "      <td>0</td>\n",
       "      <td>1</td>\n",
       "      <td>0</td>\n",
       "      <td>0</td>\n",
       "      <td>0</td>\n",
       "      <td>1</td>\n",
       "      <td>0</td>\n",
       "      <td>0</td>\n",
       "      <td>1</td>\n",
       "      <td>0</td>\n",
       "      <td>0</td>\n",
       "    </tr>\n",
       "    <tr>\n",
       "      <th>9</th>\n",
       "      <td>0</td>\n",
       "      <td>1</td>\n",
       "      <td>1</td>\n",
       "      <td>1</td>\n",
       "      <td>0</td>\n",
       "      <td>25</td>\n",
       "      <td>0</td>\n",
       "      <td>0</td>\n",
       "      <td>0</td>\n",
       "      <td>0</td>\n",
       "      <td>0</td>\n",
       "      <td>0</td>\n",
       "      <td>0</td>\n",
       "      <td>0</td>\n",
       "      <td>0</td>\n",
       "      <td>0</td>\n",
       "      <td>0</td>\n",
       "    </tr>\n",
       "    <tr>\n",
       "      <th>16</th>\n",
       "      <td>0</td>\n",
       "      <td>1</td>\n",
       "      <td>1</td>\n",
       "      <td>1</td>\n",
       "      <td>1</td>\n",
       "      <td>80</td>\n",
       "      <td>0</td>\n",
       "      <td>0</td>\n",
       "      <td>0</td>\n",
       "      <td>0</td>\n",
       "      <td>0</td>\n",
       "      <td>1</td>\n",
       "      <td>0</td>\n",
       "      <td>0</td>\n",
       "      <td>0</td>\n",
       "      <td>0</td>\n",
       "      <td>0</td>\n",
       "    </tr>\n",
       "    <tr>\n",
       "      <th>162</th>\n",
       "      <td>1</td>\n",
       "      <td>2</td>\n",
       "      <td>1</td>\n",
       "      <td>1</td>\n",
       "      <td>1</td>\n",
       "      <td>10</td>\n",
       "      <td>0</td>\n",
       "      <td>0</td>\n",
       "      <td>0</td>\n",
       "      <td>0</td>\n",
       "      <td>0</td>\n",
       "      <td>0</td>\n",
       "      <td>1</td>\n",
       "      <td>1</td>\n",
       "      <td>0</td>\n",
       "      <td>0</td>\n",
       "      <td>0</td>\n",
       "    </tr>\n",
       "    <tr>\n",
       "      <th>...</th>\n",
       "      <td>...</td>\n",
       "      <td>...</td>\n",
       "      <td>...</td>\n",
       "      <td>...</td>\n",
       "      <td>...</td>\n",
       "      <td>...</td>\n",
       "      <td>...</td>\n",
       "      <td>...</td>\n",
       "      <td>...</td>\n",
       "      <td>...</td>\n",
       "      <td>...</td>\n",
       "      <td>...</td>\n",
       "      <td>...</td>\n",
       "      <td>...</td>\n",
       "      <td>...</td>\n",
       "      <td>...</td>\n",
       "      <td>...</td>\n",
       "    </tr>\n",
       "    <tr>\n",
       "      <th>1047902</th>\n",
       "      <td>1</td>\n",
       "      <td>13</td>\n",
       "      <td>1</td>\n",
       "      <td>1</td>\n",
       "      <td>0</td>\n",
       "      <td>38</td>\n",
       "      <td>0</td>\n",
       "      <td>0</td>\n",
       "      <td>0</td>\n",
       "      <td>0</td>\n",
       "      <td>0</td>\n",
       "      <td>0</td>\n",
       "      <td>0</td>\n",
       "      <td>0</td>\n",
       "      <td>0</td>\n",
       "      <td>0</td>\n",
       "      <td>0</td>\n",
       "    </tr>\n",
       "    <tr>\n",
       "      <th>1047903</th>\n",
       "      <td>1</td>\n",
       "      <td>13</td>\n",
       "      <td>1</td>\n",
       "      <td>1</td>\n",
       "      <td>1</td>\n",
       "      <td>60</td>\n",
       "      <td>0</td>\n",
       "      <td>0</td>\n",
       "      <td>0</td>\n",
       "      <td>0</td>\n",
       "      <td>0</td>\n",
       "      <td>0</td>\n",
       "      <td>0</td>\n",
       "      <td>0</td>\n",
       "      <td>0</td>\n",
       "      <td>0</td>\n",
       "      <td>0</td>\n",
       "    </tr>\n",
       "    <tr>\n",
       "      <th>1047905</th>\n",
       "      <td>1</td>\n",
       "      <td>13</td>\n",
       "      <td>1</td>\n",
       "      <td>1</td>\n",
       "      <td>0</td>\n",
       "      <td>53</td>\n",
       "      <td>0</td>\n",
       "      <td>1</td>\n",
       "      <td>0</td>\n",
       "      <td>0</td>\n",
       "      <td>0</td>\n",
       "      <td>1</td>\n",
       "      <td>0</td>\n",
       "      <td>0</td>\n",
       "      <td>0</td>\n",
       "      <td>0</td>\n",
       "      <td>0</td>\n",
       "    </tr>\n",
       "    <tr>\n",
       "      <th>1047928</th>\n",
       "      <td>1</td>\n",
       "      <td>13</td>\n",
       "      <td>1</td>\n",
       "      <td>1</td>\n",
       "      <td>0</td>\n",
       "      <td>47</td>\n",
       "      <td>0</td>\n",
       "      <td>1</td>\n",
       "      <td>0</td>\n",
       "      <td>0</td>\n",
       "      <td>0</td>\n",
       "      <td>0</td>\n",
       "      <td>0</td>\n",
       "      <td>0</td>\n",
       "      <td>0</td>\n",
       "      <td>0</td>\n",
       "      <td>0</td>\n",
       "    </tr>\n",
       "    <tr>\n",
       "      <th>1047933</th>\n",
       "      <td>1</td>\n",
       "      <td>13</td>\n",
       "      <td>1</td>\n",
       "      <td>1</td>\n",
       "      <td>0</td>\n",
       "      <td>77</td>\n",
       "      <td>0</td>\n",
       "      <td>1</td>\n",
       "      <td>0</td>\n",
       "      <td>0</td>\n",
       "      <td>1</td>\n",
       "      <td>1</td>\n",
       "      <td>0</td>\n",
       "      <td>0</td>\n",
       "      <td>0</td>\n",
       "      <td>0</td>\n",
       "      <td>0</td>\n",
       "    </tr>\n",
       "  </tbody>\n",
       "</table>\n",
       "<p>41330 rows × 17 columns</p>\n",
       "</div>"
      ],
      "text/plain": [
       "         USMER  MEDICAL_UNIT  SEX  PATIENT_TYPE  PNEUMONIA  AGE  PREGNANT  \\\n",
       "5            0             1    1             1          1   40         0   \n",
       "8            0             1    1             1          0   37         0   \n",
       "9            0             1    1             1          0   25         0   \n",
       "16           0             1    1             1          1   80         0   \n",
       "162          1             2    1             1          1   10         0   \n",
       "...        ...           ...  ...           ...        ...  ...       ...   \n",
       "1047902      1            13    1             1          0   38         0   \n",
       "1047903      1            13    1             1          1   60         0   \n",
       "1047905      1            13    1             1          0   53         0   \n",
       "1047928      1            13    1             1          0   47         0   \n",
       "1047933      1            13    1             1          0   77         0   \n",
       "\n",
       "         DIABETES  COPD  ASTHMA  INMSUPR  HIPERTENSION  OTHER_DISEASE  \\\n",
       "5               0     0       0        0             0              0   \n",
       "8               1     0       0        0             1              0   \n",
       "9               0     0       0        0             0              0   \n",
       "16              0     0       0        0             1              0   \n",
       "162             0     0       0        0             0              1   \n",
       "...           ...   ...     ...      ...           ...            ...   \n",
       "1047902         0     0       0        0             0              0   \n",
       "1047903         0     0       0        0             0              0   \n",
       "1047905         1     0       0        0             1              0   \n",
       "1047928         1     0       0        0             0              0   \n",
       "1047933         1     0       0        1             1              0   \n",
       "\n",
       "         CARDIOVASCULAR  OBESITY  RENAL_CHRONIC  TOBACCO  \n",
       "5                     0        0              0        0  \n",
       "8                     0        1              0        0  \n",
       "9                     0        0              0        0  \n",
       "16                    0        0              0        0  \n",
       "162                   1        0              0        0  \n",
       "...                 ...      ...            ...      ...  \n",
       "1047902               0        0              0        0  \n",
       "1047903               0        0              0        0  \n",
       "1047905               0        0              0        0  \n",
       "1047928               0        0              0        0  \n",
       "1047933               0        0              0        0  \n",
       "\n",
       "[41330 rows x 17 columns]"
      ]
     },
     "execution_count": 28,
     "metadata": {},
     "output_type": "execute_result"
    }
   ],
   "source": [
    "X"
   ]
  },
  {
   "cell_type": "code",
   "execution_count": 29,
   "id": "d65e722c",
   "metadata": {},
   "outputs": [
    {
     "data": {
      "text/plain": [
       "5          0\n",
       "8          0\n",
       "9          0\n",
       "16         1\n",
       "162        0\n",
       "          ..\n",
       "1047902    0\n",
       "1047903    0\n",
       "1047905    0\n",
       "1047928    0\n",
       "1047933    0\n",
       "Name: AT_RISK, Length: 41330, dtype: int64"
      ]
     },
     "execution_count": 29,
     "metadata": {},
     "output_type": "execute_result"
    }
   ],
   "source": [
    "y"
   ]
  },
  {
   "cell_type": "code",
   "execution_count": 30,
   "id": "bb85ca82",
   "metadata": {},
   "outputs": [],
   "source": [
    "X_train, X_test, y_train, y_test = train_test_split(X , y, test_size=0.20,random_state=101)"
   ]
  },
  {
   "cell_type": "markdown",
   "id": "15b8e06b",
   "metadata": {},
   "source": [
    "### Step 4: Applying first model - Logistic Regression"
   ]
  },
  {
   "cell_type": "code",
   "execution_count": 31,
   "id": "ebdbcb62",
   "metadata": {},
   "outputs": [],
   "source": [
    "from sklearn.linear_model import LogisticRegression"
   ]
  },
  {
   "cell_type": "code",
   "execution_count": 32,
   "id": "327ea7d9",
   "metadata": {},
   "outputs": [
    {
     "data": {
      "text/plain": [
       "LogisticRegression(max_iter=3000)"
      ]
     },
     "execution_count": 32,
     "metadata": {},
     "output_type": "execute_result"
    }
   ],
   "source": [
    "logmodel = LogisticRegression(solver='lbfgs', max_iter=3000)\n",
    "logmodel.fit(X_train,y_train)"
   ]
  },
  {
   "cell_type": "code",
   "execution_count": 33,
   "id": "eb2faa3c",
   "metadata": {},
   "outputs": [
    {
     "data": {
      "text/plain": [
       "LogisticRegression(max_iter=3000)"
      ]
     },
     "execution_count": 33,
     "metadata": {},
     "output_type": "execute_result"
    }
   ],
   "source": [
    "LogisticRegression(max_iter=3000)"
   ]
  },
  {
   "cell_type": "code",
   "execution_count": 34,
   "id": "7748ee56",
   "metadata": {},
   "outputs": [],
   "source": [
    "predictions = logmodel.predict(X_test)"
   ]
  },
  {
   "cell_type": "code",
   "execution_count": 35,
   "id": "5507341c",
   "metadata": {},
   "outputs": [],
   "source": [
    "from sklearn.metrics import confusion_matrix"
   ]
  },
  {
   "cell_type": "code",
   "execution_count": 36,
   "id": "7a0d50dc",
   "metadata": {},
   "outputs": [
    {
     "name": "stdout",
     "output_type": "stream",
     "text": [
      "[[6328    0]\n",
      " [1938    0]]\n"
     ]
    }
   ],
   "source": [
    "print(confusion_matrix(y_test,predictions))"
   ]
  },
  {
   "cell_type": "code",
   "execution_count": 37,
   "id": "29bfd79e",
   "metadata": {},
   "outputs": [],
   "source": [
    "from sklearn.metrics import classification_report"
   ]
  },
  {
   "cell_type": "code",
   "execution_count": 38,
   "id": "06a668df",
   "metadata": {},
   "outputs": [
    {
     "name": "stdout",
     "output_type": "stream",
     "text": [
      "              precision    recall  f1-score   support\n",
      "\n",
      "           0       0.77      1.00      0.87      6328\n",
      "           1       0.00      0.00      0.00      1938\n",
      "\n",
      "    accuracy                           0.77      8266\n",
      "   macro avg       0.38      0.50      0.43      8266\n",
      "weighted avg       0.59      0.77      0.66      8266\n",
      "\n"
     ]
    },
    {
     "name": "stderr",
     "output_type": "stream",
     "text": [
      "C:\\ProgramData\\Anaconda3\\lib\\site-packages\\sklearn\\metrics\\_classification.py:1318: UndefinedMetricWarning: Precision and F-score are ill-defined and being set to 0.0 in labels with no predicted samples. Use `zero_division` parameter to control this behavior.\n",
      "  _warn_prf(average, modifier, msg_start, len(result))\n",
      "C:\\ProgramData\\Anaconda3\\lib\\site-packages\\sklearn\\metrics\\_classification.py:1318: UndefinedMetricWarning: Precision and F-score are ill-defined and being set to 0.0 in labels with no predicted samples. Use `zero_division` parameter to control this behavior.\n",
      "  _warn_prf(average, modifier, msg_start, len(result))\n",
      "C:\\ProgramData\\Anaconda3\\lib\\site-packages\\sklearn\\metrics\\_classification.py:1318: UndefinedMetricWarning: Precision and F-score are ill-defined and being set to 0.0 in labels with no predicted samples. Use `zero_division` parameter to control this behavior.\n",
      "  _warn_prf(average, modifier, msg_start, len(result))\n"
     ]
    }
   ],
   "source": [
    "print(classification_report(y_test,predictions))"
   ]
  },
  {
   "cell_type": "code",
   "execution_count": 39,
   "id": "93c087e8",
   "metadata": {},
   "outputs": [
    {
     "name": "stdout",
     "output_type": "stream",
     "text": [
      "              precision    recall  f1-score   support\n",
      "\n",
      "           0       0.76      1.00      0.87      6323\n",
      "           1       0.00      0.00      0.00      1943\n",
      "\n",
      "    accuracy                           0.76      8266\n",
      "   macro avg       0.38      0.50      0.43      8266\n",
      "weighted avg       0.59      0.76      0.66      8266\n",
      "\n",
      "[[6323    0]\n",
      " [1943    0]]\n",
      "0.7649407210258892\n"
     ]
    },
    {
     "name": "stderr",
     "output_type": "stream",
     "text": [
      "C:\\ProgramData\\Anaconda3\\lib\\site-packages\\sklearn\\linear_model\\_logistic.py:814: ConvergenceWarning: lbfgs failed to converge (status=1):\n",
      "STOP: TOTAL NO. of ITERATIONS REACHED LIMIT.\n",
      "\n",
      "Increase the number of iterations (max_iter) or scale the data as shown in:\n",
      "    https://scikit-learn.org/stable/modules/preprocessing.html\n",
      "Please also refer to the documentation for alternative solver options:\n",
      "    https://scikit-learn.org/stable/modules/linear_model.html#logistic-regression\n",
      "  n_iter_i = _check_optimize_result(\n",
      "C:\\ProgramData\\Anaconda3\\lib\\site-packages\\sklearn\\metrics\\_classification.py:1318: UndefinedMetricWarning: Precision and F-score are ill-defined and being set to 0.0 in labels with no predicted samples. Use `zero_division` parameter to control this behavior.\n",
      "  _warn_prf(average, modifier, msg_start, len(result))\n",
      "C:\\ProgramData\\Anaconda3\\lib\\site-packages\\sklearn\\metrics\\_classification.py:1318: UndefinedMetricWarning: Precision and F-score are ill-defined and being set to 0.0 in labels with no predicted samples. Use `zero_division` parameter to control this behavior.\n",
      "  _warn_prf(average, modifier, msg_start, len(result))\n",
      "C:\\ProgramData\\Anaconda3\\lib\\site-packages\\sklearn\\metrics\\_classification.py:1318: UndefinedMetricWarning: Precision and F-score are ill-defined and being set to 0.0 in labels with no predicted samples. Use `zero_division` parameter to control this behavior.\n",
      "  _warn_prf(average, modifier, msg_start, len(result))\n"
     ]
    }
   ],
   "source": [
    "from sklearn.model_selection import train_test_split\n",
    "from sklearn.linear_model import LogisticRegression\n",
    "from sklearn.metrics import classification_report\n",
    "from sklearn.metrics import confusion_matrix,accuracy_score\n",
    "\n",
    "X = data.drop('AT_RISK' , axis=1)\n",
    "y = data['AT_RISK']\n",
    "X_train, X_test, y_train, y_test = train_test_split(X, y, test_size=0.20, random_state=1)\n",
    "logmodel = LogisticRegression()\n",
    "logmodel.fit(X_train, y_train)\n",
    " \n",
    "predictions = logmodel.predict(X_test)\n",
    "print(classification_report(y_test, predictions))\n",
    "print(confusion_matrix(y_test, predictions))\n",
    "print(accuracy_score(y_test, predictions))"
   ]
  },
  {
   "cell_type": "code",
   "execution_count": 40,
   "id": "390350fd",
   "metadata": {},
   "outputs": [],
   "source": [
    "## We tried 2 different methods for logistic regression and we got the accuracy 77%."
   ]
  },
  {
   "cell_type": "markdown",
   "id": "8511e3d7",
   "metadata": {},
   "source": [
    "### Model 2 - Naive Bayes"
   ]
  },
  {
   "cell_type": "code",
   "execution_count": 41,
   "id": "f4128810",
   "metadata": {},
   "outputs": [],
   "source": [
    "import csv\n",
    "import math\n",
    "import random"
   ]
  },
  {
   "cell_type": "code",
   "execution_count": 42,
   "id": "9314f04e",
   "metadata": {},
   "outputs": [
    {
     "name": "stdout",
     "output_type": "stream",
     "text": [
      "(41330, 17)\n",
      "(41330,)\n"
     ]
    }
   ],
   "source": [
    "X = data.drop('AT_RISK' , axis=1)\n",
    "y = data['AT_RISK']\n",
    "\n",
    "print (X.shape)\n",
    "print (y.shape)"
   ]
  },
  {
   "cell_type": "code",
   "execution_count": 43,
   "id": "ad010255",
   "metadata": {},
   "outputs": [],
   "source": [
    "from sklearn.model_selection import train_test_split\n",
    "X_train,X_test,y_train,y_test=train_test_split(X,y,test_size=0.20,random_state=9) #Split the dataset"
   ]
  },
  {
   "cell_type": "code",
   "execution_count": 44,
   "id": "c6e2284e",
   "metadata": {},
   "outputs": [
    {
     "data": {
      "text/plain": [
       "GaussianNB()"
      ]
     },
     "execution_count": 44,
     "metadata": {},
     "output_type": "execute_result"
    }
   ],
   "source": [
    "from sklearn.naive_bayes import GaussianNB\n",
    "nv = GaussianNB() # create a classifier\n",
    "nv.fit(X_train,y_train) # fitting the data"
   ]
  },
  {
   "cell_type": "code",
   "execution_count": 45,
   "id": "fb3c4212",
   "metadata": {},
   "outputs": [
    {
     "data": {
      "text/plain": [
       "0.701064601984031"
      ]
     },
     "execution_count": 45,
     "metadata": {},
     "output_type": "execute_result"
    }
   ],
   "source": [
    "from sklearn.metrics import accuracy_score\n",
    "y_pred = nv.predict(X_test) # store the prediction data\n",
    "accuracy_score(y_test,y_pred) # calculate the accuracy"
   ]
  },
  {
   "cell_type": "markdown",
   "id": "851ba8d7",
   "metadata": {},
   "source": [
    "#### From Naive Bayes model we got the accuracy as 70%"
   ]
  },
  {
   "cell_type": "markdown",
   "id": "0597ba9f",
   "metadata": {},
   "source": [
    "### Model 3 : K Nearest Neighbours"
   ]
  },
  {
   "cell_type": "code",
   "execution_count": 46,
   "id": "20bcd91a",
   "metadata": {},
   "outputs": [],
   "source": [
    "# Import necessary modules\n",
    "from sklearn.neighbors import KNeighborsClassifier\n",
    "X = data.drop('AT_RISK' , axis=1)\n",
    "y = data['AT_RISK']\n"
   ]
  },
  {
   "cell_type": "code",
   "execution_count": 47,
   "id": "b90c3287",
   "metadata": {},
   "outputs": [
    {
     "name": "stdout",
     "output_type": "stream",
     "text": [
      "[0 0 0 ... 1 0 0]\n"
     ]
    }
   ],
   "source": [
    "# Split into training and test set\n",
    "X_train, X_test, y_train, y_test = train_test_split(\n",
    "             X, y, test_size = 0.2, random_state=42)\n",
    "  \n",
    "knn = KNeighborsClassifier(n_neighbors=7)\n",
    "  \n",
    "knn.fit(X_train, y_train)\n",
    "  \n",
    "# Predict on dataset which model has not seen before\n",
    "print(knn.predict(X_test))"
   ]
  },
  {
   "cell_type": "code",
   "execution_count": 48,
   "id": "71ff8068",
   "metadata": {},
   "outputs": [
    {
     "name": "stdout",
     "output_type": "stream",
     "text": [
      "0.7355431889668521\n"
     ]
    }
   ],
   "source": [
    "knn = KNeighborsClassifier(n_neighbors=7)\n",
    "  \n",
    "knn.fit(X_train, y_train)\n",
    "  \n",
    "# Calculate the accuracy of the model\n",
    "print(knn.score(X_test, y_test))"
   ]
  },
  {
   "cell_type": "code",
   "execution_count": 49,
   "id": "02575086",
   "metadata": {},
   "outputs": [
    {
     "data": {
      "image/png": "[encoded data removed]",
      "text/plain": [
       "<Figure size 432x288 with 1 Axes>"
      ]
     },
     "metadata": {
      "needs_background": "light"
     },
     "output_type": "display_data"
    }
   ],
   "source": [
    "neighbors = np.arange(1, 9)\n",
    "train_accuracy = np.empty(len(neighbors))\n",
    "test_accuracy = np.empty(len(neighbors))\n",
    "  \n",
    "# Loop over K values\n",
    "for i, k in enumerate(neighbors):\n",
    "    knn = KNeighborsClassifier(n_neighbors=k)\n",
    "    knn.fit(X_train, y_train)\n",
    "      \n",
    "    # Compute training and test data accuracy\n",
    "    train_accuracy[i] = knn.score(X_train, y_train)\n",
    "    test_accuracy[i] = knn.score(X_test, y_test)\n",
    "  \n",
    "# Generate plot\n",
    "plt.plot(neighbors, test_accuracy, label = 'Testing dataset Accuracy')\n",
    "plt.plot(neighbors, train_accuracy, label = 'Training dataset Accuracy')\n",
    "  \n",
    "plt.legend()\n",
    "plt.xlabel('n_neighbors')\n",
    "plt.ylabel('Accuracy')\n",
    "plt.show()"
   ]
  },
  {
   "cell_type": "markdown",
   "id": "f1942d30",
   "metadata": {},
   "source": [
    "#### From K Nearest model we got the 73% Accruacy"
   ]
  },
  {
   "cell_type": "markdown",
   "id": "c1e194c5",
   "metadata": {},
   "source": [
    "### Confusion Matrix"
   ]
  },
  {
   "cell_type": "code",
   "execution_count": 65,
   "id": "9587605a",
   "metadata": {},
   "outputs": [],
   "source": [
    "from sklearn.preprocessing import StandardScaler\n",
    "\n",
    "# Normalize the  data (center around 0 and scale to remove the variance).\n",
    "scaler =StandardScaler()\n",
    "Xs = scaler.fit_transform(X)"
   ]
  },
  {
   "cell_type": "code",
   "execution_count": 66,
   "id": "df2f6bce",
   "metadata": {},
   "outputs": [],
   "source": [
    "from sklearn.decomposition import PCA\n",
    "# feature extraction\n",
    "pca = PCA(n_components=10)\n",
    "fit = pca.fit(Xs)\n",
    "\n",
    "# summarize components\n",
    "#print(\"Explained Variance: %s\") % fit.explained_variance_ratio_\n",
    "#print(fit.components_)"
   ]
  },
  {
   "cell_type": "code",
   "execution_count": 67,
   "id": "07fe2f7d",
   "metadata": {},
   "outputs": [],
   "source": [
    "# visualization\n",
    "import seaborn as sns \n",
    "plt.style.use('fivethirtyeight')\n",
    "sns.set_style(\"white\")\n",
    "\n",
    "plt.rcParams['figure.figsize'] = (8,4)\n",
    "#plt.rcParams['axes.titlesize'] = 'large'"
   ]
  },
  {
   "cell_type": "code",
   "execution_count": 68,
   "id": "6106a778",
   "metadata": {},
   "outputs": [
    {
     "name": "stdout",
     "output_type": "stream",
     "text": [
      "\n",
      "➔ The classifier accuracy score is 0.77\n",
      "\n"
     ]
    }
   ],
   "source": [
    "# Divide records in training and testing sets.\n",
    "X_train, X_test, y_train, y_test = train_test_split(Xs, y, test_size=0.3, random_state=2, stratify=y)\n",
    "\n",
    "# Create an SVM classifier and train it on 70% of the data set.\n",
    "clf = SVC(probability=True)\n",
    "clf.fit(X_train, y_train)\n",
    "\n",
    "# Analyze accuracy of predictions on 30% of the holdout test sample.\n",
    "classifier_score = clf.score(X_test, y_test)\n",
    "print ('\\n➔ The classifier accuracy score is {:03.2f}\\n'.format(classifier_score))"
   ]
  },
  {
   "cell_type": "code",
   "execution_count": 69,
   "id": "1ddfa785",
   "metadata": {},
   "outputs": [],
   "source": [
    "# The confusion matrix helps visualize the performance of the algorithm.\n",
    "y_pred = clf.fit(X_train, y_train).predict(X_test)\n",
    "cm = metrics.confusion_matrix(y_test, y_pred)\n",
    "#print(cm)"
   ]
  },
  {
   "cell_type": "code",
   "execution_count": 70,
   "id": "7f2eb7b6",
   "metadata": {},
   "outputs": [
    {
     "data": {
      "image/png": "[encoded data removed]",
      "text/plain": [
       "<Figure size 360x360 with 1 Axes>"
      ]
     },
     "metadata": {
      "needs_background": "light"
     },
     "output_type": "display_data"
    },
    {
     "name": "stdout",
     "output_type": "stream",
     "text": [
      "              precision    recall  f1-score   support\n",
      "\n",
      "           0       0.77      1.00      0.87      9494\n",
      "           1       0.12      0.00      0.00      2905\n",
      "\n",
      "    accuracy                           0.77     12399\n",
      "   macro avg       0.45      0.50      0.43     12399\n",
      "weighted avg       0.62      0.77      0.66     12399\n",
      "\n"
     ]
    }
   ],
   "source": [
    "%matplotlib inline\n",
    "import matplotlib.pyplot as plt\n",
    "\n",
    "from IPython.display import Image, display\n",
    "\n",
    "fig, ax = plt.subplots(figsize=(5, 5))\n",
    "ax.matshow(cm, cmap=plt.cm.Reds, alpha=0.3)\n",
    "for i in range(cm.shape[0]):\n",
    "     for j in range(cm.shape[1]):\n",
    "         ax.text(x=j, y=i,\n",
    "                s=cm[i, j], \n",
    "                va='center', ha='center')\n",
    "plt.xlabel('Predicted Values', )\n",
    "plt.ylabel('Actual Values')\n",
    "plt.show()\n",
    "print(classification_report(y_test, y_pred ))"
   ]
  },
  {
   "cell_type": "markdown",
   "id": "bbed1b58",
   "metadata": {},
   "source": [
    "### Model4 : K Fold Cross Validation"
   ]
  },
  {
   "cell_type": "code",
   "execution_count": 71,
   "id": "22971c5d",
   "metadata": {},
   "outputs": [],
   "source": [
    "X = data.drop('AT_RISK' , axis=1)\n",
    "y = data['AT_RISK']"
   ]
  },
  {
   "cell_type": "code",
   "execution_count": 73,
   "id": "cbe11f20",
   "metadata": {},
   "outputs": [],
   "source": [
    "# Split the Ratio into Training and Test Set\n",
    "from sklearn.model_selection import train_test_split\n",
    "X_train,X_test,y_train,y_test = train_test_split(X,y,test_size = 0.30,random_state = 12)"
   ]
  },
  {
   "cell_type": "code",
   "execution_count": 74,
   "id": "3e96ecdb",
   "metadata": {},
   "outputs": [
    {
     "data": {
      "text/plain": [
       "KNeighborsClassifier()"
      ]
     },
     "execution_count": 74,
     "metadata": {},
     "output_type": "execute_result"
    }
   ],
   "source": [
    "# Model KNN\n",
    "from sklearn.neighbors import KNeighborsClassifier\n",
    "classifier = KNeighborsClassifier(n_neighbors = 5, metric = 'minkowski',p = 2)\n",
    "classifier.fit(X_train,y_train)"
   ]
  },
  {
   "cell_type": "code",
   "execution_count": 77,
   "id": "b3f9a432",
   "metadata": {},
   "outputs": [],
   "source": [
    "y_pred = classifier.predict(X_test)"
   ]
  },
  {
   "cell_type": "code",
   "execution_count": 78,
   "id": "827f15b1",
   "metadata": {},
   "outputs": [
    {
     "name": "stdout",
     "output_type": "stream",
     "text": [
      "[[8602  884]\n",
      " [2579  334]]\n"
     ]
    },
    {
     "data": {
      "text/plain": [
       "0.7207032825227841"
      ]
     },
     "execution_count": 78,
     "metadata": {},
     "output_type": "execute_result"
    }
   ],
   "source": [
    "from sklearn.metrics import confusion_matrix, accuracy_score\n",
    "cm = confusion_matrix(y_test,y_pred)\n",
    "print(cm)\n",
    "accuracy_score(y_test,y_pred)"
   ]
  },
  {
   "cell_type": "code",
   "execution_count": 79,
   "id": "04da437b",
   "metadata": {},
   "outputs": [
    {
     "name": "stdout",
     "output_type": "stream",
     "text": [
      "0.6789184417839735\n"
     ]
    }
   ],
   "source": [
    "# Applying k-fold cross validation\n",
    "from sklearn.model_selection import cross_val_score\n",
    "accuracies = cross_val_score(estimator = classifier,X= X,y = y,cv = 20)# 10 fold times test data is validated\n",
    "print(accuracies.mean())"
   ]
  },
  {
   "cell_type": "markdown",
   "id": "2e46f744",
   "metadata": {},
   "source": [
    "### I applied total 4 models amongs which Logistic Regression have 77% accuracy among all the models"
   ]
  }
 ],
 "metadata": {
  "kernelspec": {
   "display_name": "Python 3 (ipykernel)",
   "language": "python",
   "name": "python3"
  },
  "language_info": {
   "codemirror_mode": {
    "name": "ipython",
    "version": 3
   },
   "file_extension": ".py",
   "mimetype": "text/x-python",
   "name": "python",
   "nbconvert_exporter": "python",
   "pygments_lexer": "ipython3",
   "version": "3.9.12"
  }
 },
 "nbformat": 4,
 "nbformat_minor": 5
}
